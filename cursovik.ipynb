{
 "cells": [
  {
   "cell_type": "markdown",
   "metadata": {},
   "source": [
    "Известно, что FNN сетка вполне хорошо настраивается на распознование рукописных цифр (датасет mnist). На одном из уроков мы смогли подобрать параметры для 97.7%-ой точности предсказаний уже на 5 эпохах обучения:\n",
    "\n",
    "Epoch 5/5\n",
    "60000/60000 [==============================] - 19s 311us/step - loss: 0.0374 - accuracy: 0.9884, test: [0.073, 0.9775]\n",
    "\n",
    "В литературе говорится о значительном положительном влиянии dropout на достижение еще большей точности на тестовом наборе.\n",
    "Но этот прием применяется для временного отключения случайного набора внутренних нейронов. А что произойдет с точностью обучения, когда мы по такому же случайному принципу будем зашумливать входящий сигнал? Своего рода kick-out элементов входного сигнала... Это можно считать проверкой на помехоустойчивость сети. Будем использовать те же 5 эпох, и случайным образом инвертировать сигнал в n процентах входящих пикселях тренировочных образцов. "
   ]
  },
  {
   "cell_type": "code",
   "execution_count": null,
   "metadata": {},
   "outputs": [],
   "source": [
    "# The full neural network code!\n",
    "###############################\n",
    "import numpy as np\n",
    "from keras.datasets import mnist\n",
    "from keras.models import Sequential\n",
    "from keras.layers import Dense\n",
    "from keras.utils import to_categorical\n",
    "\n",
    "(train_images,train_labels),(test_images,test_labels) = mnist.load_data()\n",
    "\n",
    "# Normalize the images.\n",
    "train_images = (train_images / 255) \n",
    "test_images  = ( test_images / 255) \n",
    "\n",
    "# Flatten the images.\n",
    "train_images_base = train_images.reshape((-1, 784))\n",
    "test_images  =  test_images.reshape((-1, 784))"
   ]
  },
  {
   "cell_type": "code",
   "execution_count": 16,
   "metadata": {},
   "outputs": [
    {
     "name": "stdout",
     "output_type": "stream",
     "text": [
      "KImages = 60000, KPixels = 784\n"
     ]
    }
   ],
   "source": [
    "KI,KP = train_images.shape\n",
    "print(f'KImages = {KI}, KPixels = {KP}')"
   ]
  },
  {
   "cell_type": "code",
   "execution_count": 38,
   "metadata": {},
   "outputs": [],
   "source": [
    "n = 0.50       #0.01 - 0.5\n",
    "K = int(KP*n)\n",
    "i_base = [en for en in range(KP)]\n",
    "\n",
    "train_ims = train_images.copy()\n",
    "i = i_base.copy()"
   ]
  },
  {
   "cell_type": "code",
   "execution_count": 39,
   "metadata": {},
   "outputs": [
    {
     "name": "stdout",
     "output_type": "stream",
     "text": [
      "K= 392\n",
      "[284, 335, 151, 663, 277, 215, 514, 43, 703, 379, 88, 675, 391, 87, 361, 587, 82, 439, 236, 513, 316, 344, 737, 254, 646, 133, 350, 677, 179, 275, 741, 279, 528, 424, 211, 740, 607, 408, 289, 161, 164, 533, 174, 320, 259, 441, 256, 730, 206, 94, 71, 217, 736, 147, 18, 773, 769, 80, 522, 52, 595, 300, 755, 635, 390, 64, 101, 317, 777, 700, 239, 180, 32, 759, 704, 525, 282, 241, 628, 711, 381, 294, 193, 728, 69, 207, 205, 485, 308, 545, 599, 65, 202, 185, 502, 673, 637, 725, 160, 276, 413, 446, 456, 770, 523, 772, 269, 591, 564, 612, 463, 549, 588, 250, 655, 315, 472, 233, 227, 688, 342, 417, 761, 760, 57, 505, 1, 338, 689, 302, 654, 114, 412, 575, 382, 267, 337, 393, 395, 622, 638, 626, 260, 397, 576, 461, 619, 76, 380, 121, 743, 487, 340, 204, 722, 754, 314, 479, 98, 465, 448, 531, 444, 610, 212, 359, 471, 288, 135, 524, 672, 735, 197, 684, 334, 434, 331, 220, 377, 311, 209, 432, 213, 93, 697, 409, 226, 223, 142, 403, 692, 173, 573, 102, 606, 321, 483, 768, 714, 661, 312, 431, 158, 727, 521, 70, 10, 670, 191, 48, 507, 705, 707, 67, 687, 134, 373, 118, 603, 504, 542, 326, 144, 378, 541, 604, 46, 274, 25, 264, 343, 593, 625, 779, 642, 169, 200, 110, 775, 109, 744, 348, 39, 138, 529, 95, 764, 368, 421, 405, 649, 77, 490, 486, 527, 137, 418, 668, 781, 732, 310, 313, 482, 156, 176, 9, 586, 49, 609, 731, 435, 572, 79, 566, 322, 281, 698, 30, 152, 616, 690, 327, 301, 745, 14, 357, 682, 752, 224, 679, 765, 372, 45, 68, 721, 171, 647, 63, 387, 427, 303, 457, 384, 78, 162, 38, 218, 493, 526, 89, 146, 12, 219, 574, 629, 423, 734, 401, 61, 410, 29, 469, 492, 360, 757, 442, 449, 554, 644, 90, 148, 484, 96, 570, 353, 304, 100, 509, 91, 567, 74, 739, 480, 676, 571, 543, 780, 354, 5, 177, 117, 657, 287, 778, 426, 550, 678, 24, 349, 333, 623, 708, 112, 362, 13, 181, 103, 298, 199, 341, 222, 749, 22, 583, 273, 190, 122, 551, 746, 694, 569, 216, 585, 126, 262, 358, 16, 330, 750, 42, 645, 15]\n"
     ]
    }
   ],
   "source": [
    "for j in range(KI):\n",
    "    np.random.shuffle(i)\n",
    "    for ij in range(K):\n",
    "        train_ims[j,i[ij]] = 1.0 - train_ims[j,i[ij]] \n",
    "print(f'K= {K}')\n",
    "lst = i[0:K]\n",
    "print(lst)"
   ]
  },
  {
   "cell_type": "code",
   "execution_count": 40,
   "metadata": {},
   "outputs": [
    {
     "name": "stdout",
     "output_type": "stream",
     "text": [
      "Epoch 1/5\n",
      "60000/60000 [==============================] - 19s 325us/step - loss: 2.3019 - accuracy: 0.1115\n",
      "Epoch 2/5\n",
      "60000/60000 [==============================] - 20s 326us/step - loss: 2.3020 - accuracy: 0.1122\n",
      "Epoch 3/5\n",
      "60000/60000 [==============================] - 22s 365us/step - loss: 2.3014 - accuracy: 0.1124\n",
      "Epoch 4/5\n",
      "60000/60000 [==============================] - 23s 389us/step - loss: 2.3014 - accuracy: 0.1124\n",
      "Epoch 5/5\n",
      "60000/60000 [==============================] - 23s 388us/step - loss: 2.3014 - accuracy: 0.1124\n",
      "10000/10000 [==============================] - 1s 74us/step\n"
     ]
    },
    {
     "data": {
      "text/plain": [
       "[2.301010782623291, 0.11349999904632568]"
      ]
     },
     "execution_count": 40,
     "metadata": {},
     "output_type": "execute_result"
    }
   ],
   "source": [
    "# Build the model.\n",
    "model = Sequential([\n",
    "  Dense(512, activation='relu', input_shape=(784,)), # 64\n",
    "  Dense(128, activation='relu'),                     # 64\n",
    "  Dense( 32, activation='relu'),                     # 64\n",
    "  Dense( 10, activation='softmax'),                  # 10\n",
    "]) \n",
    "\n",
    "# Compile the model.\n",
    "model.compile(  optimizer='adam',  loss='categorical_crossentropy',  metrics=['accuracy'])\n",
    "\n",
    "# Train the model.\n",
    "model.fit(  train_ims,  to_categorical(train_labels),  epochs=5,  batch_size=32)\n",
    "\n",
    "# Evaluate the model.\n",
    "model.evaluate(  test_images,  to_categorical(test_labels))"
   ]
  },
  {
   "cell_type": "code",
   "execution_count": null,
   "metadata": {},
   "outputs": [],
   "source": [
    "  0%  train loss: 0.0374 - accuracy: 0.9884, test: [0.073, 0.9775]\n",
    "  1%  train loss: 0.0271 - accuracy: 0.9917, test: [0.099, 0.9754]\n",
    "  5%  train loss: 0.0281 - accuracy: 0.9904, test: [0.124, 0.9747]\n",
    " 10%  train loss: 0.0359 - accuracy: 0.9882, test: [0.179, 0.9689]\n",
    " 15%  train loss: 0.0544 - accuracy: 0.9816, test: [0.257, 0.9625]\n",
    " 20%  train loss: 0.0899 - accuracy: 0.9693, test: [0.340, 0.9538]\n",
    " 30%  train loss: 0.4240 - accuracy: 0.8565, test: [0.476, 0.9262]\n",
    " 40%  train loss: 2.3013 - accuracy: 0.1124, test: [2.256, 0.1136]\n",
    " 50%  train loss: 2.3014 - accuracy: 0.1124, test: [2.301, 0.1134]\n"
   ]
  },
  {
   "cell_type": "code",
   "execution_count": null,
   "metadata": {},
   "outputs": [],
   "source": [
    "'''\n",
    "Выводы:\n",
    "Случайный шум оставляет возможность хорошего обучения модели FNN вплоть до 30% замены интенсивности пикселов на \"обратную\".\n",
    "Если надо быстрее зашумить изображения - лучше проводить протяженные (неслучайные) куски линий.\n",
    "При повышении процента шума модель первым делом попадает в режим переобучения, после чего (с процентом шума 20)\n",
    "- переходит в стадию недообучения, а потом предсказательная способность окончательно рушится\n",
    "'''\n",
    "    "
   ]
  }
 ],
 "metadata": {
  "kernelspec": {
   "display_name": "Python 3",
   "language": "python",
   "name": "python3"
  },
  "language_info": {
   "codemirror_mode": {
    "name": "ipython",
    "version": 3
   },
   "file_extension": ".py",
   "mimetype": "text/x-python",
   "name": "python",
   "nbconvert_exporter": "python",
   "pygments_lexer": "ipython3",
   "version": "3.7.7"
  }
 },
 "nbformat": 4,
 "nbformat_minor": 2
}
